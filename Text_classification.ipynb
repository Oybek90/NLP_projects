{
  "nbformat": 4,
  "nbformat_minor": 0,
  "metadata": {
    "colab": {
      "provenance": [],
      "gpuType": "T4"
    },
    "kernelspec": {
      "name": "python3",
      "display_name": "Python 3"
    },
    "language_info": {
      "name": "python"
    },
    "accelerator": "GPU"
  },
  "cells": [
    {
      "cell_type": "markdown",
      "source": [
        "This code mounts google drive to the golab notebook. It gives us to get access with google drive and data there."
      ],
      "metadata": {
        "id": "XLx_4ckh7Ky8"
      }
    },
    {
      "cell_type": "code",
      "execution_count": null,
      "metadata": {
        "colab": {
          "base_uri": "https://localhost:8080/"
        },
        "id": "qLSROfIi3DnV",
        "outputId": "f9f2d3a7-7873-47ec-aa5b-076f1bb28535"
      },
      "outputs": [
        {
          "output_type": "stream",
          "name": "stdout",
          "text": [
            "Mounted at /content/gdrive\n"
          ]
        }
      ],
      "source": [
        "from google.colab import drive\n",
        "drive.mount('/content/gdrive')\n",
        "!ln -s /content/gdrive/My\\ Drive/ /mydrive"
      ]
    },
    {
      "cell_type": "code",
      "source": [
        "## Going to the path of the project\n",
        "cd /content/gdrive/MyDrive/NLP_projects"
      ],
      "metadata": {
        "colab": {
          "base_uri": "https://localhost:8080/"
        },
        "id": "YAg1fBJi3dfG",
        "outputId": "e67aa329-8c4e-4859-9f92-30cf4aa97677"
      },
      "execution_count": null,
      "outputs": [
        {
          "output_type": "stream",
          "name": "stdout",
          "text": [
            "/content/gdrive/MyDrive/NLP_projects\n"
          ]
        }
      ]
    },
    {
      "cell_type": "code",
      "source": [
        "!ls"
      ],
      "metadata": {
        "colab": {
          "base_uri": "https://localhost:8080/"
        },
        "id": "slvAluvc3lTM",
        "outputId": "84ff31ff-ad47-45f8-d8b5-a6553cc8f4e1"
      },
      "execution_count": null,
      "outputs": [
        {
          "output_type": "stream",
          "name": "stdout",
          "text": [
            "Dataset  Text_classification.ipynb  Uzbek_News_Dataset.zip\n"
          ]
        }
      ]
    },
    {
      "cell_type": "markdown",
      "source": [
        "### **Importing Libraries**"
      ],
      "metadata": {
        "id": "IoHYP4sy5aE3"
      }
    },
    {
      "cell_type": "code",
      "source": [
        "import numpy as np\n",
        "import pandas as pd\n",
        "import matplotlib.pyplot as plt\n",
        "import tensorflow as tf\n",
        "import os"
      ],
      "metadata": {
        "id": "ni1gO-B13n-o"
      },
      "execution_count": null,
      "outputs": []
    },
    {
      "cell_type": "markdown",
      "source": [
        "### **Unziping Dataset**"
      ],
      "metadata": {
        "id": "ey7flwRW5gE3"
      }
    },
    {
      "cell_type": "code",
      "source": [
        "import zipfile\n",
        "import os\n",
        "\n",
        "# Specify the name of your ZIP file\n",
        "zip_file_name = '/content/gdrive/MyDrive/NLP_projects/Uzbek_News_Dataset.zip'\n",
        "\n",
        "# Create a directory to extract the contents\n",
        "extract_dir = 'Uzb_News_Dataset'\n",
        "os.makedirs(extract_dir, exist_ok=True)\n",
        "\n",
        "# Unzip the file\n",
        "with zipfile.ZipFile(zip_file_name, 'r') as zip_ref:\n",
        "    zip_ref.extractall(extract_dir)\n",
        "\n",
        "print(f'Files have been extracted to: {extract_dir}')\n"
      ],
      "metadata": {
        "id": "prsi6vs33-DS"
      },
      "execution_count": null,
      "outputs": []
    },
    {
      "cell_type": "markdown",
      "source": [
        "### **Loading Dataset**"
      ],
      "metadata": {
        "id": "BCZQzVcD5kxz"
      }
    },
    {
      "cell_type": "code",
      "source": [
        "def load_data_to_dataframe(base_folder):\n",
        "    data = []\n",
        "\n",
        "    # Loop through each folder in the base directory\n",
        "    for class_label in os.listdir(base_folder):\n",
        "        class_folder_path = os.path.join(base_folder, class_label)\n",
        "\n",
        "        if os.path.isdir(class_folder_path):\n",
        "            # Loop through each file in the class directory\n",
        "            for filename in os.listdir(class_folder_path):\n",
        "                file_path = os.path.join(class_folder_path, filename)\n",
        "                # Ensure we're working with a text file\n",
        "                if filename.endswith('.txt'):\n",
        "                    with open(file_path, 'r', encoding='utf-8') as file:\n",
        "                        text = file.read().strip()\n",
        "                        # Append a tuple (number_of_samples, text, class_label) to the data list\n",
        "                        data.append((len(data) + 1, text, class_label))\n",
        "\n",
        "    # Create a DataFrame from the data list\n",
        "    df = pd.DataFrame(data, columns=['number_of_samples', 'text', 'class_labels'])\n",
        "    return df"
      ],
      "metadata": {
        "id": "0E_E1iWI5VYg"
      },
      "execution_count": null,
      "outputs": []
    },
    {
      "cell_type": "code",
      "source": [
        "# Example usage\n",
        "base_folder = '/content/gdrive/MyDrive/NLP_projects/Uzb_News_Dataset/Uzbek_News_Dataset'\n",
        "df = load_data_to_dataframe(base_folder)\n",
        "df.head()"
      ],
      "metadata": {
        "colab": {
          "base_uri": "https://localhost:8080/",
          "height": 206
        },
        "id": "M5-tlSo-5VWj",
        "outputId": "e74d24e0-5d41-4da9-a5ad-592f47af1c02"
      },
      "execution_count": null,
      "outputs": [
        {
          "output_type": "execute_result",
          "data": {
            "text/plain": [
              "   number_of_samples                                               text  \\\n",
              "0                  1  Tesla barcha elektromobillarining narxini oshi...   \n",
              "1                  2  UzAuto Motors — o‘rindiq isitish modeli va mag...   \n",
              "2                  3  Lego’ning 358 mingdan ortiq detali yordamida t...   \n",
              "3                  4  Namanganda “Moskvich” ariqqa ag‘darilib ketish...   \n",
              "4                  5  Qo‘qonda YPX xodimini mashina ustida sudrab ke...   \n",
              "\n",
              "  class_labels  \n",
              "0         Avto  \n",
              "1         Avto  \n",
              "2         Avto  \n",
              "3         Avto  \n",
              "4         Avto  "
            ],
            "text/html": [
              "\n",
              "  <div id=\"df-28964839-5ba3-4d43-a7c8-de658ab6e81e\" class=\"colab-df-container\">\n",
              "    <div>\n",
              "<style scoped>\n",
              "    .dataframe tbody tr th:only-of-type {\n",
              "        vertical-align: middle;\n",
              "    }\n",
              "\n",
              "    .dataframe tbody tr th {\n",
              "        vertical-align: top;\n",
              "    }\n",
              "\n",
              "    .dataframe thead th {\n",
              "        text-align: right;\n",
              "    }\n",
              "</style>\n",
              "<table border=\"1\" class=\"dataframe\">\n",
              "  <thead>\n",
              "    <tr style=\"text-align: right;\">\n",
              "      <th></th>\n",
              "      <th>number_of_samples</th>\n",
              "      <th>text</th>\n",
              "      <th>class_labels</th>\n",
              "    </tr>\n",
              "  </thead>\n",
              "  <tbody>\n",
              "    <tr>\n",
              "      <th>0</th>\n",
              "      <td>1</td>\n",
              "      <td>Tesla barcha elektromobillarining narxini oshi...</td>\n",
              "      <td>Avto</td>\n",
              "    </tr>\n",
              "    <tr>\n",
              "      <th>1</th>\n",
              "      <td>2</td>\n",
              "      <td>UzAuto Motors — o‘rindiq isitish modeli va mag...</td>\n",
              "      <td>Avto</td>\n",
              "    </tr>\n",
              "    <tr>\n",
              "      <th>2</th>\n",
              "      <td>3</td>\n",
              "      <td>Lego’ning 358 mingdan ortiq detali yordamida t...</td>\n",
              "      <td>Avto</td>\n",
              "    </tr>\n",
              "    <tr>\n",
              "      <th>3</th>\n",
              "      <td>4</td>\n",
              "      <td>Namanganda “Moskvich” ariqqa ag‘darilib ketish...</td>\n",
              "      <td>Avto</td>\n",
              "    </tr>\n",
              "    <tr>\n",
              "      <th>4</th>\n",
              "      <td>5</td>\n",
              "      <td>Qo‘qonda YPX xodimini mashina ustida sudrab ke...</td>\n",
              "      <td>Avto</td>\n",
              "    </tr>\n",
              "  </tbody>\n",
              "</table>\n",
              "</div>\n",
              "    <div class=\"colab-df-buttons\">\n",
              "\n",
              "  <div class=\"colab-df-container\">\n",
              "    <button class=\"colab-df-convert\" onclick=\"convertToInteractive('df-28964839-5ba3-4d43-a7c8-de658ab6e81e')\"\n",
              "            title=\"Convert this dataframe to an interactive table.\"\n",
              "            style=\"display:none;\">\n",
              "\n",
              "  <svg xmlns=\"http://www.w3.org/2000/svg\" height=\"24px\" viewBox=\"0 -960 960 960\">\n",
              "    <path d=\"M120-120v-720h720v720H120Zm60-500h600v-160H180v160Zm220 220h160v-160H400v160Zm0 220h160v-160H400v160ZM180-400h160v-160H180v160Zm440 0h160v-160H620v160ZM180-180h160v-160H180v160Zm440 0h160v-160H620v160Z\"/>\n",
              "  </svg>\n",
              "    </button>\n",
              "\n",
              "  <style>\n",
              "    .colab-df-container {\n",
              "      display:flex;\n",
              "      gap: 12px;\n",
              "    }\n",
              "\n",
              "    .colab-df-convert {\n",
              "      background-color: #E8F0FE;\n",
              "      border: none;\n",
              "      border-radius: 50%;\n",
              "      cursor: pointer;\n",
              "      display: none;\n",
              "      fill: #1967D2;\n",
              "      height: 32px;\n",
              "      padding: 0 0 0 0;\n",
              "      width: 32px;\n",
              "    }\n",
              "\n",
              "    .colab-df-convert:hover {\n",
              "      background-color: #E2EBFA;\n",
              "      box-shadow: 0px 1px 2px rgba(60, 64, 67, 0.3), 0px 1px 3px 1px rgba(60, 64, 67, 0.15);\n",
              "      fill: #174EA6;\n",
              "    }\n",
              "\n",
              "    .colab-df-buttons div {\n",
              "      margin-bottom: 4px;\n",
              "    }\n",
              "\n",
              "    [theme=dark] .colab-df-convert {\n",
              "      background-color: #3B4455;\n",
              "      fill: #D2E3FC;\n",
              "    }\n",
              "\n",
              "    [theme=dark] .colab-df-convert:hover {\n",
              "      background-color: #434B5C;\n",
              "      box-shadow: 0px 1px 3px 1px rgba(0, 0, 0, 0.15);\n",
              "      filter: drop-shadow(0px 1px 2px rgba(0, 0, 0, 0.3));\n",
              "      fill: #FFFFFF;\n",
              "    }\n",
              "  </style>\n",
              "\n",
              "    <script>\n",
              "      const buttonEl =\n",
              "        document.querySelector('#df-28964839-5ba3-4d43-a7c8-de658ab6e81e button.colab-df-convert');\n",
              "      buttonEl.style.display =\n",
              "        google.colab.kernel.accessAllowed ? 'block' : 'none';\n",
              "\n",
              "      async function convertToInteractive(key) {\n",
              "        const element = document.querySelector('#df-28964839-5ba3-4d43-a7c8-de658ab6e81e');\n",
              "        const dataTable =\n",
              "          await google.colab.kernel.invokeFunction('convertToInteractive',\n",
              "                                                    [key], {});\n",
              "        if (!dataTable) return;\n",
              "\n",
              "        const docLinkHtml = 'Like what you see? Visit the ' +\n",
              "          '<a target=\"_blank\" href=https://colab.research.google.com/notebooks/data_table.ipynb>data table notebook</a>'\n",
              "          + ' to learn more about interactive tables.';\n",
              "        element.innerHTML = '';\n",
              "        dataTable['output_type'] = 'display_data';\n",
              "        await google.colab.output.renderOutput(dataTable, element);\n",
              "        const docLink = document.createElement('div');\n",
              "        docLink.innerHTML = docLinkHtml;\n",
              "        element.appendChild(docLink);\n",
              "      }\n",
              "    </script>\n",
              "  </div>\n",
              "\n",
              "\n",
              "<div id=\"df-01893856-769d-4dd6-9d8d-1905c4267012\">\n",
              "  <button class=\"colab-df-quickchart\" onclick=\"quickchart('df-01893856-769d-4dd6-9d8d-1905c4267012')\"\n",
              "            title=\"Suggest charts\"\n",
              "            style=\"display:none;\">\n",
              "\n",
              "<svg xmlns=\"http://www.w3.org/2000/svg\" height=\"24px\"viewBox=\"0 0 24 24\"\n",
              "     width=\"24px\">\n",
              "    <g>\n",
              "        <path d=\"M19 3H5c-1.1 0-2 .9-2 2v14c0 1.1.9 2 2 2h14c1.1 0 2-.9 2-2V5c0-1.1-.9-2-2-2zM9 17H7v-7h2v7zm4 0h-2V7h2v10zm4 0h-2v-4h2v4z\"/>\n",
              "    </g>\n",
              "</svg>\n",
              "  </button>\n",
              "\n",
              "<style>\n",
              "  .colab-df-quickchart {\n",
              "      --bg-color: #E8F0FE;\n",
              "      --fill-color: #1967D2;\n",
              "      --hover-bg-color: #E2EBFA;\n",
              "      --hover-fill-color: #174EA6;\n",
              "      --disabled-fill-color: #AAA;\n",
              "      --disabled-bg-color: #DDD;\n",
              "  }\n",
              "\n",
              "  [theme=dark] .colab-df-quickchart {\n",
              "      --bg-color: #3B4455;\n",
              "      --fill-color: #D2E3FC;\n",
              "      --hover-bg-color: #434B5C;\n",
              "      --hover-fill-color: #FFFFFF;\n",
              "      --disabled-bg-color: #3B4455;\n",
              "      --disabled-fill-color: #666;\n",
              "  }\n",
              "\n",
              "  .colab-df-quickchart {\n",
              "    background-color: var(--bg-color);\n",
              "    border: none;\n",
              "    border-radius: 50%;\n",
              "    cursor: pointer;\n",
              "    display: none;\n",
              "    fill: var(--fill-color);\n",
              "    height: 32px;\n",
              "    padding: 0;\n",
              "    width: 32px;\n",
              "  }\n",
              "\n",
              "  .colab-df-quickchart:hover {\n",
              "    background-color: var(--hover-bg-color);\n",
              "    box-shadow: 0 1px 2px rgba(60, 64, 67, 0.3), 0 1px 3px 1px rgba(60, 64, 67, 0.15);\n",
              "    fill: var(--button-hover-fill-color);\n",
              "  }\n",
              "\n",
              "  .colab-df-quickchart-complete:disabled,\n",
              "  .colab-df-quickchart-complete:disabled:hover {\n",
              "    background-color: var(--disabled-bg-color);\n",
              "    fill: var(--disabled-fill-color);\n",
              "    box-shadow: none;\n",
              "  }\n",
              "\n",
              "  .colab-df-spinner {\n",
              "    border: 2px solid var(--fill-color);\n",
              "    border-color: transparent;\n",
              "    border-bottom-color: var(--fill-color);\n",
              "    animation:\n",
              "      spin 1s steps(1) infinite;\n",
              "  }\n",
              "\n",
              "  @keyframes spin {\n",
              "    0% {\n",
              "      border-color: transparent;\n",
              "      border-bottom-color: var(--fill-color);\n",
              "      border-left-color: var(--fill-color);\n",
              "    }\n",
              "    20% {\n",
              "      border-color: transparent;\n",
              "      border-left-color: var(--fill-color);\n",
              "      border-top-color: var(--fill-color);\n",
              "    }\n",
              "    30% {\n",
              "      border-color: transparent;\n",
              "      border-left-color: var(--fill-color);\n",
              "      border-top-color: var(--fill-color);\n",
              "      border-right-color: var(--fill-color);\n",
              "    }\n",
              "    40% {\n",
              "      border-color: transparent;\n",
              "      border-right-color: var(--fill-color);\n",
              "      border-top-color: var(--fill-color);\n",
              "    }\n",
              "    60% {\n",
              "      border-color: transparent;\n",
              "      border-right-color: var(--fill-color);\n",
              "    }\n",
              "    80% {\n",
              "      border-color: transparent;\n",
              "      border-right-color: var(--fill-color);\n",
              "      border-bottom-color: var(--fill-color);\n",
              "    }\n",
              "    90% {\n",
              "      border-color: transparent;\n",
              "      border-bottom-color: var(--fill-color);\n",
              "    }\n",
              "  }\n",
              "</style>\n",
              "\n",
              "  <script>\n",
              "    async function quickchart(key) {\n",
              "      const quickchartButtonEl =\n",
              "        document.querySelector('#' + key + ' button');\n",
              "      quickchartButtonEl.disabled = true;  // To prevent multiple clicks.\n",
              "      quickchartButtonEl.classList.add('colab-df-spinner');\n",
              "      try {\n",
              "        const charts = await google.colab.kernel.invokeFunction(\n",
              "            'suggestCharts', [key], {});\n",
              "      } catch (error) {\n",
              "        console.error('Error during call to suggestCharts:', error);\n",
              "      }\n",
              "      quickchartButtonEl.classList.remove('colab-df-spinner');\n",
              "      quickchartButtonEl.classList.add('colab-df-quickchart-complete');\n",
              "    }\n",
              "    (() => {\n",
              "      let quickchartButtonEl =\n",
              "        document.querySelector('#df-01893856-769d-4dd6-9d8d-1905c4267012 button');\n",
              "      quickchartButtonEl.style.display =\n",
              "        google.colab.kernel.accessAllowed ? 'block' : 'none';\n",
              "    })();\n",
              "  </script>\n",
              "</div>\n",
              "\n",
              "    </div>\n",
              "  </div>\n"
            ],
            "application/vnd.google.colaboratory.intrinsic+json": {
              "type": "dataframe",
              "variable_name": "df",
              "summary": "{\n  \"name\": \"df\",\n  \"rows\": 73869,\n  \"fields\": [\n    {\n      \"column\": \"number_of_samples\",\n      \"properties\": {\n        \"dtype\": \"number\",\n        \"std\": 21324,\n        \"min\": 1,\n        \"max\": 73869,\n        \"num_unique_values\": 73869,\n        \"samples\": [\n          40962,\n          52040,\n          1166\n        ],\n        \"semantic_type\": \"\",\n        \"description\": \"\"\n      }\n    },\n    {\n      \"column\": \"text\",\n      \"properties\": {\n        \"dtype\": \"string\",\n        \"num_unique_values\": 73859,\n        \"samples\": [\n          \"Janubiy Koreya hukumati sobiq prezident Pak Kin Xeni afv etishga qaror qildi\\n\\nJanubiy Koreya hukumati mamlakatning sobiq prezidenti Pak Kin Xeni afv etishga qaror qildi. Bu haqda Yonhap agentligiga tayanib, \\u201cRBK\\u201d xabar berdi.\\n\\nSobiq prezident yaqinlashib kelayotgan Yangi yil munosabati bilan afv etiladiganlar ro\\u2018yxatiga kiritilgan. Bu kabi qaror 69 yoshli Pak Kin Xening salomatligi yomonlashgani sabab qabul qilingan. 2021-yilda u uch marta yelkasi va belidagi og\\u2018riq sabab shifoxonaga yotqizilgan hamda operatsiya qilingan.\\n2018-yilda Pak Kin Xe davlat sirini oshkor etish, tamagirlik, vakolatini suiiste\\u2019mol qilish va pora olishda ayblanib, 24 yil muddatda ozodlikdan mahrum etilgan va unga nisbatan 18 milliard von (o\\u2018sha vaqtdagi kurs bo\\u2018yicha 17,5 million dollar) jarima belgilangan. Shundan so\\u2018ng hukm qayta ko\\u2018rib chiqilgan va 2021-yilning yanvarida mamlakat Oliy sudi sobiq davlat rahbariga nisbatan chiqarilgan 20 yillik qamoq jazosini o\\u2018z kuchida qoldirgandi.\\nPak Kin Xe 2017-yilda korrupsiya mojarosiga aloqadorligi sababli hokimiyatdan chetlashtirilgan. U do\\u2018sti Chxve Sun Sil bilan til biriktirib, Samsung va\\u00a0Lotte\\u00a0kabi yirik kompaniyalarni\\u00a0Sun Sil\\u00a0nazorat qilgan ikkita jamg\\u2018armaga 77,4 milliard\\u00a0von\\u00a0ajratishga majbur qilganlikda, shuningdek, 2018-yili Milliy razvedka xizmatidan 2,5 milliard\\u00a0vonni\\u00a0noqonuniy olganlikda ayblangan.\\nEslatib o\\u2018tamiz,\\u00a0Janubiy Koreyaning korrupsiyada ayblangan yana bir sobiq prezidenti Li Myon Bak 17 yilga\\u00a0qamalgan edi.\\n\\u00a0Prezidentlik eng xavfli kasb. O\\u2018lim yoki qamoq \\u2014 Janubiy Koreya prezidentlari taqdiri\",\n          \"AQSh generali \\u201cTolibon\\u201d Afg\\u2018onistonda hokimiyatni egallab olishi sababini ma\\u2019lum qildi\\n\\n\\u201cTolibon\\u201d harakati Afg\\u2018onistondagi korrupsiya hamda fuqarolarning hukumatga ishonchi yo\\u2018qligi tufayli mamlakatda hokimiyatni egallab olishga muvaffaq bo\\u2018lgan. Bu haqda AQSh Qurolli kuchlari Shtab boshliqlari qo\\u2018mitasi rahbari general Mark Milli Fox News telekanaliga bergan intervyusida ma\\u2019lum qildi, deb yozadi \\u201cRBK\\u201d.\\n\\n\\u201cMening fikrimcha, asosiy muammolardan biri \\u2014 bu hukumatdagi korrupsiya\\u2026 Hukumatning o\\u2018zi xalq ko\\u2018z o\\u2018ngida qonuniylikka ega emas. Oxirida nima bo\\u2018lganini ko\\u2018rdingiz. Oliy hukumat elitasi, ularning barchasi tom ma\\u2019noda safdan chiqib ketdi\\u201d, \\u2014 dedi Milli.\\nUning so\\u2018zlariga ko\\u2018ra, afg\\u2018on hukumatining qulashi rasmiy shaxslar kutganidan ancha ertaroq yuz bergan, holbuki AQSh o\\u2018z qo\\u2018shinlarini olib ketish borasida puxta rejalar tuzgan edi. \\u201cAfg\\u2018on armiyasining parchalanishi ancha tez sodir bo\\u2018ldi va deyarli hamma uchun to\\u2018satdan bo\\u2018ldi. Shu bilan birga afg\\u2018on hukumatining qulashi ham\\u201d, \\u2014 deya qo\\u2018shib qo\\u2018ydi general.\\nAQSh va uning ittifoqdoshlari Afg\\u2018onistonda o\\u2018z qo\\u2018shinlarini olib ketishni boshlaganidan keyin 15-avgust kuni \\u201cTolibon\\u201d mamlakatning katta qismini bosib oldi. O\\u2018sha kuni prezident Ashraf G\\u2018ani Afg\\u2018onistonda qochib, BAAga uchib ketdi. 34 ta viloyatdan faqat Panjsher qarshilik ko\\u2018rsatishda daavom etmoqda.\\n3-sentabr kuni Turkiyaning \\u201cYeni Shafak\\u201d nashri hamda \\u201cRIA Novosti\\u201d va Reuters \\u201cTolibon\\u201d Panjsherni o\\u2018z nazorati ostiga olganini ma\\u2019lum qildi, ammo qarshilik kuchlari bu ma\\u2019lumotni rad etdi. Keyinroq Al Jazeera telekanali \\u201cTolibon\\u201d hujumiga viloyat poytaxtiga olib boradigan yo\\u2018lga mina joylashtirilgani xalal berayotganini ma\\u2019lum qildi. Ikki kun o\\u2018tib, India Today telekanali o\\u2018z manbalariga tayanib, \\u201cTolibon\\u201d viloyat markazi Bazarak shahriga kirib, gubernator idorasiga hujum uyushtirgani haqida xabar berdi. Biroq \\u201cTASS\\u201d manbalari idoraning hujumga uchragani haqidagi ma\\u2019lumot haqiqatga to\\u2018g\\u2018ri kelmasligini bildirdi.\\nAvvalroq\\u00a0The Washington Post AQSh va Afg\\u2018onistondagi manbalariga tayanib,\\u00a0\\u201cTolibon\\u201d afg\\u2018onistonlik amaldorlarga\\u00a0qurol evaziga pora berganini xabar qilgandi.\\u00a02020-yil boshidan buyon tomonlar bitim tuzib keladi, Afg\\u2018oniston rasmiy vakillari uni \\u201co\\u2018t ochishni to\\u2018xtatish haqidagi bitimlar\\u201d deb ataydi.\\u00a0WP ma\\u2019lumotlariga ko\\u2018ra, aslida, kelishuvlar pul evaziga toliblarga qurol-yarog\\u2018 topshirish haqida bo\\u2018lgan. \\u201cTolibon\\u201dning mamlakatni egallashiga aynan shu bitimlar sabab bo\\u2018ldi, deb yozadi nashr.\\n\\u00a0Afg\\u2018oniston \\u201cTolibon\\u201dga qanday taslim bo\\u2018ldi?\",\n          \"Video: Audi R8 superkarlari dunyodagi eng qimmat savdo markazi \\u2014 Al Hazm binosi ichida\\n\\nAudi avtomobilsozlik kompaniyasi tomonidan ishlab chiqarilgan ikkita R8 superkarini Dohada joylashgan dunyodagi eng qimmat savdo markazi \\u2014 Al Hazm\\u2019da suratga olishdi. Mazkur savdo markazini qurishga 825 million dollardan ortiq mablag\\u2018 sarflangan. Mashinalar tasvirlangan video Auditography\\u2019ning YouTube\\u2019dagi kanaliga joylashtirilgan, deb xabar berdi \\u201cMotor\\u201d.\\n\\nSavdo markazini qurish uchun 60 ming tonnaga yaqin Falastin va Toskanadan keltirilgan tosh va marmar ishlatilgan. Quruvchilar oldiga XVIII asrdagi Yevropa savdo markazi usulidagi inshootni yaratish vazifa qilib qo\\u2018yilgan edi.\\nVideoda tasvirlangan to\\u2018liq va orqa uzatmali R8 modellari 5,2 litrli 10 silindrga ega dvigatel bilan jihozlangan, biroq mashinalardan birining quvvati 610 ot kuchiga, ikkinchisiniki 540 ot kuchiga teng.\\n\\nTo\\u2018liq uzatmali variant 100 km/soat tezlikka 3,2 soniyada chiqsa, orqa uzatmali model ushbu ko\\u2018rsatkichga 3,7 soniya sarflaydi.\"\n        ],\n        \"semantic_type\": \"\",\n        \"description\": \"\"\n      }\n    },\n    {\n      \"column\": \"class_labels\",\n      \"properties\": {\n        \"dtype\": \"category\",\n        \"num_unique_values\": 3,\n        \"samples\": [\n          \"Avto\",\n          \"Ayollar\",\n          \"Dunyo\"\n        ],\n        \"semantic_type\": \"\",\n        \"description\": \"\"\n      }\n    }\n  ]\n}"
            }
          },
          "metadata": {},
          "execution_count": 7
        }
      ]
    },
    {
      "cell_type": "code",
      "source": [
        "from sklearn.preprocessing import LabelEncoder\n",
        "\n",
        "def encode_class_labels(df):\n",
        "    # Initialize the LabelEncoder\n",
        "    label_encoder = LabelEncoder()\n",
        "\n",
        "    # Fit and transform the class labels\n",
        "    df['encoded_labels'] = label_encoder.fit_transform(df['class_labels'])\n",
        "\n",
        "    return df\n",
        "\n",
        "df = encode_class_labels(df)\n",
        "df.head()"
      ],
      "metadata": {
        "colab": {
          "base_uri": "https://localhost:8080/",
          "height": 206
        },
        "id": "ClVbmRqL5VTu",
        "outputId": "725654fb-3baf-4c62-d3df-4d43c2ed1f41"
      },
      "execution_count": null,
      "outputs": [
        {
          "output_type": "execute_result",
          "data": {
            "text/plain": [
              "   number_of_samples                                               text  \\\n",
              "0                  1  Tesla barcha elektromobillarining narxini oshi...   \n",
              "1                  2  UzAuto Motors — o‘rindiq isitish modeli va mag...   \n",
              "2                  3  Lego’ning 358 mingdan ortiq detali yordamida t...   \n",
              "3                  4  Namanganda “Moskvich” ariqqa ag‘darilib ketish...   \n",
              "4                  5  Qo‘qonda YPX xodimini mashina ustida sudrab ke...   \n",
              "\n",
              "  class_labels  encoded_labels  \n",
              "0         Avto               0  \n",
              "1         Avto               0  \n",
              "2         Avto               0  \n",
              "3         Avto               0  \n",
              "4         Avto               0  "
            ],
            "text/html": [
              "\n",
              "  <div id=\"df-73a02a61-f279-4b40-b00c-b9763f29ef6d\" class=\"colab-df-container\">\n",
              "    <div>\n",
              "<style scoped>\n",
              "    .dataframe tbody tr th:only-of-type {\n",
              "        vertical-align: middle;\n",
              "    }\n",
              "\n",
              "    .dataframe tbody tr th {\n",
              "        vertical-align: top;\n",
              "    }\n",
              "\n",
              "    .dataframe thead th {\n",
              "        text-align: right;\n",
              "    }\n",
              "</style>\n",
              "<table border=\"1\" class=\"dataframe\">\n",
              "  <thead>\n",
              "    <tr style=\"text-align: right;\">\n",
              "      <th></th>\n",
              "      <th>number_of_samples</th>\n",
              "      <th>text</th>\n",
              "      <th>class_labels</th>\n",
              "      <th>encoded_labels</th>\n",
              "    </tr>\n",
              "  </thead>\n",
              "  <tbody>\n",
              "    <tr>\n",
              "      <th>0</th>\n",
              "      <td>1</td>\n",
              "      <td>Tesla barcha elektromobillarining narxini oshi...</td>\n",
              "      <td>Avto</td>\n",
              "      <td>0</td>\n",
              "    </tr>\n",
              "    <tr>\n",
              "      <th>1</th>\n",
              "      <td>2</td>\n",
              "      <td>UzAuto Motors — o‘rindiq isitish modeli va mag...</td>\n",
              "      <td>Avto</td>\n",
              "      <td>0</td>\n",
              "    </tr>\n",
              "    <tr>\n",
              "      <th>2</th>\n",
              "      <td>3</td>\n",
              "      <td>Lego’ning 358 mingdan ortiq detali yordamida t...</td>\n",
              "      <td>Avto</td>\n",
              "      <td>0</td>\n",
              "    </tr>\n",
              "    <tr>\n",
              "      <th>3</th>\n",
              "      <td>4</td>\n",
              "      <td>Namanganda “Moskvich” ariqqa ag‘darilib ketish...</td>\n",
              "      <td>Avto</td>\n",
              "      <td>0</td>\n",
              "    </tr>\n",
              "    <tr>\n",
              "      <th>4</th>\n",
              "      <td>5</td>\n",
              "      <td>Qo‘qonda YPX xodimini mashina ustida sudrab ke...</td>\n",
              "      <td>Avto</td>\n",
              "      <td>0</td>\n",
              "    </tr>\n",
              "  </tbody>\n",
              "</table>\n",
              "</div>\n",
              "    <div class=\"colab-df-buttons\">\n",
              "\n",
              "  <div class=\"colab-df-container\">\n",
              "    <button class=\"colab-df-convert\" onclick=\"convertToInteractive('df-73a02a61-f279-4b40-b00c-b9763f29ef6d')\"\n",
              "            title=\"Convert this dataframe to an interactive table.\"\n",
              "            style=\"display:none;\">\n",
              "\n",
              "  <svg xmlns=\"http://www.w3.org/2000/svg\" height=\"24px\" viewBox=\"0 -960 960 960\">\n",
              "    <path d=\"M120-120v-720h720v720H120Zm60-500h600v-160H180v160Zm220 220h160v-160H400v160Zm0 220h160v-160H400v160ZM180-400h160v-160H180v160Zm440 0h160v-160H620v160ZM180-180h160v-160H180v160Zm440 0h160v-160H620v160Z\"/>\n",
              "  </svg>\n",
              "    </button>\n",
              "\n",
              "  <style>\n",
              "    .colab-df-container {\n",
              "      display:flex;\n",
              "      gap: 12px;\n",
              "    }\n",
              "\n",
              "    .colab-df-convert {\n",
              "      background-color: #E8F0FE;\n",
              "      border: none;\n",
              "      border-radius: 50%;\n",
              "      cursor: pointer;\n",
              "      display: none;\n",
              "      fill: #1967D2;\n",
              "      height: 32px;\n",
              "      padding: 0 0 0 0;\n",
              "      width: 32px;\n",
              "    }\n",
              "\n",
              "    .colab-df-convert:hover {\n",
              "      background-color: #E2EBFA;\n",
              "      box-shadow: 0px 1px 2px rgba(60, 64, 67, 0.3), 0px 1px 3px 1px rgba(60, 64, 67, 0.15);\n",
              "      fill: #174EA6;\n",
              "    }\n",
              "\n",
              "    .colab-df-buttons div {\n",
              "      margin-bottom: 4px;\n",
              "    }\n",
              "\n",
              "    [theme=dark] .colab-df-convert {\n",
              "      background-color: #3B4455;\n",
              "      fill: #D2E3FC;\n",
              "    }\n",
              "\n",
              "    [theme=dark] .colab-df-convert:hover {\n",
              "      background-color: #434B5C;\n",
              "      box-shadow: 0px 1px 3px 1px rgba(0, 0, 0, 0.15);\n",
              "      filter: drop-shadow(0px 1px 2px rgba(0, 0, 0, 0.3));\n",
              "      fill: #FFFFFF;\n",
              "    }\n",
              "  </style>\n",
              "\n",
              "    <script>\n",
              "      const buttonEl =\n",
              "        document.querySelector('#df-73a02a61-f279-4b40-b00c-b9763f29ef6d button.colab-df-convert');\n",
              "      buttonEl.style.display =\n",
              "        google.colab.kernel.accessAllowed ? 'block' : 'none';\n",
              "\n",
              "      async function convertToInteractive(key) {\n",
              "        const element = document.querySelector('#df-73a02a61-f279-4b40-b00c-b9763f29ef6d');\n",
              "        const dataTable =\n",
              "          await google.colab.kernel.invokeFunction('convertToInteractive',\n",
              "                                                    [key], {});\n",
              "        if (!dataTable) return;\n",
              "\n",
              "        const docLinkHtml = 'Like what you see? Visit the ' +\n",
              "          '<a target=\"_blank\" href=https://colab.research.google.com/notebooks/data_table.ipynb>data table notebook</a>'\n",
              "          + ' to learn more about interactive tables.';\n",
              "        element.innerHTML = '';\n",
              "        dataTable['output_type'] = 'display_data';\n",
              "        await google.colab.output.renderOutput(dataTable, element);\n",
              "        const docLink = document.createElement('div');\n",
              "        docLink.innerHTML = docLinkHtml;\n",
              "        element.appendChild(docLink);\n",
              "      }\n",
              "    </script>\n",
              "  </div>\n",
              "\n",
              "\n",
              "<div id=\"df-9608f58e-f97b-4d9c-a6e7-1fec26248b95\">\n",
              "  <button class=\"colab-df-quickchart\" onclick=\"quickchart('df-9608f58e-f97b-4d9c-a6e7-1fec26248b95')\"\n",
              "            title=\"Suggest charts\"\n",
              "            style=\"display:none;\">\n",
              "\n",
              "<svg xmlns=\"http://www.w3.org/2000/svg\" height=\"24px\"viewBox=\"0 0 24 24\"\n",
              "     width=\"24px\">\n",
              "    <g>\n",
              "        <path d=\"M19 3H5c-1.1 0-2 .9-2 2v14c0 1.1.9 2 2 2h14c1.1 0 2-.9 2-2V5c0-1.1-.9-2-2-2zM9 17H7v-7h2v7zm4 0h-2V7h2v10zm4 0h-2v-4h2v4z\"/>\n",
              "    </g>\n",
              "</svg>\n",
              "  </button>\n",
              "\n",
              "<style>\n",
              "  .colab-df-quickchart {\n",
              "      --bg-color: #E8F0FE;\n",
              "      --fill-color: #1967D2;\n",
              "      --hover-bg-color: #E2EBFA;\n",
              "      --hover-fill-color: #174EA6;\n",
              "      --disabled-fill-color: #AAA;\n",
              "      --disabled-bg-color: #DDD;\n",
              "  }\n",
              "\n",
              "  [theme=dark] .colab-df-quickchart {\n",
              "      --bg-color: #3B4455;\n",
              "      --fill-color: #D2E3FC;\n",
              "      --hover-bg-color: #434B5C;\n",
              "      --hover-fill-color: #FFFFFF;\n",
              "      --disabled-bg-color: #3B4455;\n",
              "      --disabled-fill-color: #666;\n",
              "  }\n",
              "\n",
              "  .colab-df-quickchart {\n",
              "    background-color: var(--bg-color);\n",
              "    border: none;\n",
              "    border-radius: 50%;\n",
              "    cursor: pointer;\n",
              "    display: none;\n",
              "    fill: var(--fill-color);\n",
              "    height: 32px;\n",
              "    padding: 0;\n",
              "    width: 32px;\n",
              "  }\n",
              "\n",
              "  .colab-df-quickchart:hover {\n",
              "    background-color: var(--hover-bg-color);\n",
              "    box-shadow: 0 1px 2px rgba(60, 64, 67, 0.3), 0 1px 3px 1px rgba(60, 64, 67, 0.15);\n",
              "    fill: var(--button-hover-fill-color);\n",
              "  }\n",
              "\n",
              "  .colab-df-quickchart-complete:disabled,\n",
              "  .colab-df-quickchart-complete:disabled:hover {\n",
              "    background-color: var(--disabled-bg-color);\n",
              "    fill: var(--disabled-fill-color);\n",
              "    box-shadow: none;\n",
              "  }\n",
              "\n",
              "  .colab-df-spinner {\n",
              "    border: 2px solid var(--fill-color);\n",
              "    border-color: transparent;\n",
              "    border-bottom-color: var(--fill-color);\n",
              "    animation:\n",
              "      spin 1s steps(1) infinite;\n",
              "  }\n",
              "\n",
              "  @keyframes spin {\n",
              "    0% {\n",
              "      border-color: transparent;\n",
              "      border-bottom-color: var(--fill-color);\n",
              "      border-left-color: var(--fill-color);\n",
              "    }\n",
              "    20% {\n",
              "      border-color: transparent;\n",
              "      border-left-color: var(--fill-color);\n",
              "      border-top-color: var(--fill-color);\n",
              "    }\n",
              "    30% {\n",
              "      border-color: transparent;\n",
              "      border-left-color: var(--fill-color);\n",
              "      border-top-color: var(--fill-color);\n",
              "      border-right-color: var(--fill-color);\n",
              "    }\n",
              "    40% {\n",
              "      border-color: transparent;\n",
              "      border-right-color: var(--fill-color);\n",
              "      border-top-color: var(--fill-color);\n",
              "    }\n",
              "    60% {\n",
              "      border-color: transparent;\n",
              "      border-right-color: var(--fill-color);\n",
              "    }\n",
              "    80% {\n",
              "      border-color: transparent;\n",
              "      border-right-color: var(--fill-color);\n",
              "      border-bottom-color: var(--fill-color);\n",
              "    }\n",
              "    90% {\n",
              "      border-color: transparent;\n",
              "      border-bottom-color: var(--fill-color);\n",
              "    }\n",
              "  }\n",
              "</style>\n",
              "\n",
              "  <script>\n",
              "    async function quickchart(key) {\n",
              "      const quickchartButtonEl =\n",
              "        document.querySelector('#' + key + ' button');\n",
              "      quickchartButtonEl.disabled = true;  // To prevent multiple clicks.\n",
              "      quickchartButtonEl.classList.add('colab-df-spinner');\n",
              "      try {\n",
              "        const charts = await google.colab.kernel.invokeFunction(\n",
              "            'suggestCharts', [key], {});\n",
              "      } catch (error) {\n",
              "        console.error('Error during call to suggestCharts:', error);\n",
              "      }\n",
              "      quickchartButtonEl.classList.remove('colab-df-spinner');\n",
              "      quickchartButtonEl.classList.add('colab-df-quickchart-complete');\n",
              "    }\n",
              "    (() => {\n",
              "      let quickchartButtonEl =\n",
              "        document.querySelector('#df-9608f58e-f97b-4d9c-a6e7-1fec26248b95 button');\n",
              "      quickchartButtonEl.style.display =\n",
              "        google.colab.kernel.accessAllowed ? 'block' : 'none';\n",
              "    })();\n",
              "  </script>\n",
              "</div>\n",
              "\n",
              "    </div>\n",
              "  </div>\n"
            ],
            "application/vnd.google.colaboratory.intrinsic+json": {
              "type": "dataframe",
              "variable_name": "df",
              "summary": "{\n  \"name\": \"df\",\n  \"rows\": 73869,\n  \"fields\": [\n    {\n      \"column\": \"number_of_samples\",\n      \"properties\": {\n        \"dtype\": \"number\",\n        \"std\": 21324,\n        \"min\": 1,\n        \"max\": 73869,\n        \"num_unique_values\": 73869,\n        \"samples\": [\n          40962,\n          52040,\n          1166\n        ],\n        \"semantic_type\": \"\",\n        \"description\": \"\"\n      }\n    },\n    {\n      \"column\": \"text\",\n      \"properties\": {\n        \"dtype\": \"string\",\n        \"num_unique_values\": 73859,\n        \"samples\": [\n          \"Janubiy Koreya hukumati sobiq prezident Pak Kin Xeni afv etishga qaror qildi\\n\\nJanubiy Koreya hukumati mamlakatning sobiq prezidenti Pak Kin Xeni afv etishga qaror qildi. Bu haqda Yonhap agentligiga tayanib, \\u201cRBK\\u201d xabar berdi.\\n\\nSobiq prezident yaqinlashib kelayotgan Yangi yil munosabati bilan afv etiladiganlar ro\\u2018yxatiga kiritilgan. Bu kabi qaror 69 yoshli Pak Kin Xening salomatligi yomonlashgani sabab qabul qilingan. 2021-yilda u uch marta yelkasi va belidagi og\\u2018riq sabab shifoxonaga yotqizilgan hamda operatsiya qilingan.\\n2018-yilda Pak Kin Xe davlat sirini oshkor etish, tamagirlik, vakolatini suiiste\\u2019mol qilish va pora olishda ayblanib, 24 yil muddatda ozodlikdan mahrum etilgan va unga nisbatan 18 milliard von (o\\u2018sha vaqtdagi kurs bo\\u2018yicha 17,5 million dollar) jarima belgilangan. Shundan so\\u2018ng hukm qayta ko\\u2018rib chiqilgan va 2021-yilning yanvarida mamlakat Oliy sudi sobiq davlat rahbariga nisbatan chiqarilgan 20 yillik qamoq jazosini o\\u2018z kuchida qoldirgandi.\\nPak Kin Xe 2017-yilda korrupsiya mojarosiga aloqadorligi sababli hokimiyatdan chetlashtirilgan. U do\\u2018sti Chxve Sun Sil bilan til biriktirib, Samsung va\\u00a0Lotte\\u00a0kabi yirik kompaniyalarni\\u00a0Sun Sil\\u00a0nazorat qilgan ikkita jamg\\u2018armaga 77,4 milliard\\u00a0von\\u00a0ajratishga majbur qilganlikda, shuningdek, 2018-yili Milliy razvedka xizmatidan 2,5 milliard\\u00a0vonni\\u00a0noqonuniy olganlikda ayblangan.\\nEslatib o\\u2018tamiz,\\u00a0Janubiy Koreyaning korrupsiyada ayblangan yana bir sobiq prezidenti Li Myon Bak 17 yilga\\u00a0qamalgan edi.\\n\\u00a0Prezidentlik eng xavfli kasb. O\\u2018lim yoki qamoq \\u2014 Janubiy Koreya prezidentlari taqdiri\",\n          \"AQSh generali \\u201cTolibon\\u201d Afg\\u2018onistonda hokimiyatni egallab olishi sababini ma\\u2019lum qildi\\n\\n\\u201cTolibon\\u201d harakati Afg\\u2018onistondagi korrupsiya hamda fuqarolarning hukumatga ishonchi yo\\u2018qligi tufayli mamlakatda hokimiyatni egallab olishga muvaffaq bo\\u2018lgan. Bu haqda AQSh Qurolli kuchlari Shtab boshliqlari qo\\u2018mitasi rahbari general Mark Milli Fox News telekanaliga bergan intervyusida ma\\u2019lum qildi, deb yozadi \\u201cRBK\\u201d.\\n\\n\\u201cMening fikrimcha, asosiy muammolardan biri \\u2014 bu hukumatdagi korrupsiya\\u2026 Hukumatning o\\u2018zi xalq ko\\u2018z o\\u2018ngida qonuniylikka ega emas. Oxirida nima bo\\u2018lganini ko\\u2018rdingiz. Oliy hukumat elitasi, ularning barchasi tom ma\\u2019noda safdan chiqib ketdi\\u201d, \\u2014 dedi Milli.\\nUning so\\u2018zlariga ko\\u2018ra, afg\\u2018on hukumatining qulashi rasmiy shaxslar kutganidan ancha ertaroq yuz bergan, holbuki AQSh o\\u2018z qo\\u2018shinlarini olib ketish borasida puxta rejalar tuzgan edi. \\u201cAfg\\u2018on armiyasining parchalanishi ancha tez sodir bo\\u2018ldi va deyarli hamma uchun to\\u2018satdan bo\\u2018ldi. Shu bilan birga afg\\u2018on hukumatining qulashi ham\\u201d, \\u2014 deya qo\\u2018shib qo\\u2018ydi general.\\nAQSh va uning ittifoqdoshlari Afg\\u2018onistonda o\\u2018z qo\\u2018shinlarini olib ketishni boshlaganidan keyin 15-avgust kuni \\u201cTolibon\\u201d mamlakatning katta qismini bosib oldi. O\\u2018sha kuni prezident Ashraf G\\u2018ani Afg\\u2018onistonda qochib, BAAga uchib ketdi. 34 ta viloyatdan faqat Panjsher qarshilik ko\\u2018rsatishda daavom etmoqda.\\n3-sentabr kuni Turkiyaning \\u201cYeni Shafak\\u201d nashri hamda \\u201cRIA Novosti\\u201d va Reuters \\u201cTolibon\\u201d Panjsherni o\\u2018z nazorati ostiga olganini ma\\u2019lum qildi, ammo qarshilik kuchlari bu ma\\u2019lumotni rad etdi. Keyinroq Al Jazeera telekanali \\u201cTolibon\\u201d hujumiga viloyat poytaxtiga olib boradigan yo\\u2018lga mina joylashtirilgani xalal berayotganini ma\\u2019lum qildi. Ikki kun o\\u2018tib, India Today telekanali o\\u2018z manbalariga tayanib, \\u201cTolibon\\u201d viloyat markazi Bazarak shahriga kirib, gubernator idorasiga hujum uyushtirgani haqida xabar berdi. Biroq \\u201cTASS\\u201d manbalari idoraning hujumga uchragani haqidagi ma\\u2019lumot haqiqatga to\\u2018g\\u2018ri kelmasligini bildirdi.\\nAvvalroq\\u00a0The Washington Post AQSh va Afg\\u2018onistondagi manbalariga tayanib,\\u00a0\\u201cTolibon\\u201d afg\\u2018onistonlik amaldorlarga\\u00a0qurol evaziga pora berganini xabar qilgandi.\\u00a02020-yil boshidan buyon tomonlar bitim tuzib keladi, Afg\\u2018oniston rasmiy vakillari uni \\u201co\\u2018t ochishni to\\u2018xtatish haqidagi bitimlar\\u201d deb ataydi.\\u00a0WP ma\\u2019lumotlariga ko\\u2018ra, aslida, kelishuvlar pul evaziga toliblarga qurol-yarog\\u2018 topshirish haqida bo\\u2018lgan. \\u201cTolibon\\u201dning mamlakatni egallashiga aynan shu bitimlar sabab bo\\u2018ldi, deb yozadi nashr.\\n\\u00a0Afg\\u2018oniston \\u201cTolibon\\u201dga qanday taslim bo\\u2018ldi?\",\n          \"Video: Audi R8 superkarlari dunyodagi eng qimmat savdo markazi \\u2014 Al Hazm binosi ichida\\n\\nAudi avtomobilsozlik kompaniyasi tomonidan ishlab chiqarilgan ikkita R8 superkarini Dohada joylashgan dunyodagi eng qimmat savdo markazi \\u2014 Al Hazm\\u2019da suratga olishdi. Mazkur savdo markazini qurishga 825 million dollardan ortiq mablag\\u2018 sarflangan. Mashinalar tasvirlangan video Auditography\\u2019ning YouTube\\u2019dagi kanaliga joylashtirilgan, deb xabar berdi \\u201cMotor\\u201d.\\n\\nSavdo markazini qurish uchun 60 ming tonnaga yaqin Falastin va Toskanadan keltirilgan tosh va marmar ishlatilgan. Quruvchilar oldiga XVIII asrdagi Yevropa savdo markazi usulidagi inshootni yaratish vazifa qilib qo\\u2018yilgan edi.\\nVideoda tasvirlangan to\\u2018liq va orqa uzatmali R8 modellari 5,2 litrli 10 silindrga ega dvigatel bilan jihozlangan, biroq mashinalardan birining quvvati 610 ot kuchiga, ikkinchisiniki 540 ot kuchiga teng.\\n\\nTo\\u2018liq uzatmali variant 100 km/soat tezlikka 3,2 soniyada chiqsa, orqa uzatmali model ushbu ko\\u2018rsatkichga 3,7 soniya sarflaydi.\"\n        ],\n        \"semantic_type\": \"\",\n        \"description\": \"\"\n      }\n    },\n    {\n      \"column\": \"class_labels\",\n      \"properties\": {\n        \"dtype\": \"category\",\n        \"num_unique_values\": 3,\n        \"samples\": [\n          \"Avto\",\n          \"Ayollar\",\n          \"Dunyo\"\n        ],\n        \"semantic_type\": \"\",\n        \"description\": \"\"\n      }\n    },\n    {\n      \"column\": \"encoded_labels\",\n      \"properties\": {\n        \"dtype\": \"number\",\n        \"std\": 0,\n        \"min\": 0,\n        \"max\": 2,\n        \"num_unique_values\": 3,\n        \"samples\": [\n          0,\n          1,\n          2\n        ],\n        \"semantic_type\": \"\",\n        \"description\": \"\"\n      }\n    }\n  ]\n}"
            }
          },
          "metadata": {},
          "execution_count": 8
        }
      ]
    },
    {
      "cell_type": "code",
      "source": [
        "df.encoded_labels.unique() ### this code shows number of classes. In this dataset there are 3 classes"
      ],
      "metadata": {
        "colab": {
          "base_uri": "https://localhost:8080/"
        },
        "id": "ZSmISdZb5VMZ",
        "outputId": "05bbdd16-703e-4d8e-c94a-0008198e7e04"
      },
      "execution_count": null,
      "outputs": [
        {
          "output_type": "execute_result",
          "data": {
            "text/plain": [
              "array([0, 1, 2])"
            ]
          },
          "metadata": {},
          "execution_count": 9
        }
      ]
    },
    {
      "cell_type": "code",
      "source": [
        "### We then remove non alphanumeric characters as well as converting to all lower case from the text.\n",
        "\n",
        "import re\n",
        "def clean_txt(text):\n",
        "    text = re.sub(\"'\", \"\", text)\n",
        "    text = re.sub(\"(\\\\W)+\", \" \", text)\n",
        "    text = text.lower()\n",
        "    return text\n",
        "\n",
        "df['text']=df['text'].apply(clean_txt)\n",
        "df.head()"
      ],
      "metadata": {
        "colab": {
          "base_uri": "https://localhost:8080/",
          "height": 206
        },
        "id": "dqRdZq4n5VBC",
        "outputId": "b3325ba5-fb89-41b1-c8d9-26b713c06cb3"
      },
      "execution_count": null,
      "outputs": [
        {
          "output_type": "execute_result",
          "data": {
            "text/plain": [
              "   number_of_samples                                               text  \\\n",
              "0                  1  tesla barcha elektromobillarining narxini oshi...   \n",
              "1                  2  uzauto motors o rindiq isitish modeli va magni...   \n",
              "2                  3  lego ning 358 mingdan ortiq detali yordamida t...   \n",
              "3                  4  namanganda moskvich ariqqa ag darilib ketishi ...   \n",
              "4                  5  qo qonda ypx xodimini mashina ustida sudrab ke...   \n",
              "\n",
              "  class_labels  encoded_labels  \n",
              "0         Avto               0  \n",
              "1         Avto               0  \n",
              "2         Avto               0  \n",
              "3         Avto               0  \n",
              "4         Avto               0  "
            ],
            "text/html": [
              "\n",
              "  <div id=\"df-615aa8e4-b07a-4c6c-945e-13ebd981b83e\" class=\"colab-df-container\">\n",
              "    <div>\n",
              "<style scoped>\n",
              "    .dataframe tbody tr th:only-of-type {\n",
              "        vertical-align: middle;\n",
              "    }\n",
              "\n",
              "    .dataframe tbody tr th {\n",
              "        vertical-align: top;\n",
              "    }\n",
              "\n",
              "    .dataframe thead th {\n",
              "        text-align: right;\n",
              "    }\n",
              "</style>\n",
              "<table border=\"1\" class=\"dataframe\">\n",
              "  <thead>\n",
              "    <tr style=\"text-align: right;\">\n",
              "      <th></th>\n",
              "      <th>number_of_samples</th>\n",
              "      <th>text</th>\n",
              "      <th>class_labels</th>\n",
              "      <th>encoded_labels</th>\n",
              "    </tr>\n",
              "  </thead>\n",
              "  <tbody>\n",
              "    <tr>\n",
              "      <th>0</th>\n",
              "      <td>1</td>\n",
              "      <td>tesla barcha elektromobillarining narxini oshi...</td>\n",
              "      <td>Avto</td>\n",
              "      <td>0</td>\n",
              "    </tr>\n",
              "    <tr>\n",
              "      <th>1</th>\n",
              "      <td>2</td>\n",
              "      <td>uzauto motors o rindiq isitish modeli va magni...</td>\n",
              "      <td>Avto</td>\n",
              "      <td>0</td>\n",
              "    </tr>\n",
              "    <tr>\n",
              "      <th>2</th>\n",
              "      <td>3</td>\n",
              "      <td>lego ning 358 mingdan ortiq detali yordamida t...</td>\n",
              "      <td>Avto</td>\n",
              "      <td>0</td>\n",
              "    </tr>\n",
              "    <tr>\n",
              "      <th>3</th>\n",
              "      <td>4</td>\n",
              "      <td>namanganda moskvich ariqqa ag darilib ketishi ...</td>\n",
              "      <td>Avto</td>\n",
              "      <td>0</td>\n",
              "    </tr>\n",
              "    <tr>\n",
              "      <th>4</th>\n",
              "      <td>5</td>\n",
              "      <td>qo qonda ypx xodimini mashina ustida sudrab ke...</td>\n",
              "      <td>Avto</td>\n",
              "      <td>0</td>\n",
              "    </tr>\n",
              "  </tbody>\n",
              "</table>\n",
              "</div>\n",
              "    <div class=\"colab-df-buttons\">\n",
              "\n",
              "  <div class=\"colab-df-container\">\n",
              "    <button class=\"colab-df-convert\" onclick=\"convertToInteractive('df-615aa8e4-b07a-4c6c-945e-13ebd981b83e')\"\n",
              "            title=\"Convert this dataframe to an interactive table.\"\n",
              "            style=\"display:none;\">\n",
              "\n",
              "  <svg xmlns=\"http://www.w3.org/2000/svg\" height=\"24px\" viewBox=\"0 -960 960 960\">\n",
              "    <path d=\"M120-120v-720h720v720H120Zm60-500h600v-160H180v160Zm220 220h160v-160H400v160Zm0 220h160v-160H400v160ZM180-400h160v-160H180v160Zm440 0h160v-160H620v160ZM180-180h160v-160H180v160Zm440 0h160v-160H620v160Z\"/>\n",
              "  </svg>\n",
              "    </button>\n",
              "\n",
              "  <style>\n",
              "    .colab-df-container {\n",
              "      display:flex;\n",
              "      gap: 12px;\n",
              "    }\n",
              "\n",
              "    .colab-df-convert {\n",
              "      background-color: #E8F0FE;\n",
              "      border: none;\n",
              "      border-radius: 50%;\n",
              "      cursor: pointer;\n",
              "      display: none;\n",
              "      fill: #1967D2;\n",
              "      height: 32px;\n",
              "      padding: 0 0 0 0;\n",
              "      width: 32px;\n",
              "    }\n",
              "\n",
              "    .colab-df-convert:hover {\n",
              "      background-color: #E2EBFA;\n",
              "      box-shadow: 0px 1px 2px rgba(60, 64, 67, 0.3), 0px 1px 3px 1px rgba(60, 64, 67, 0.15);\n",
              "      fill: #174EA6;\n",
              "    }\n",
              "\n",
              "    .colab-df-buttons div {\n",
              "      margin-bottom: 4px;\n",
              "    }\n",
              "\n",
              "    [theme=dark] .colab-df-convert {\n",
              "      background-color: #3B4455;\n",
              "      fill: #D2E3FC;\n",
              "    }\n",
              "\n",
              "    [theme=dark] .colab-df-convert:hover {\n",
              "      background-color: #434B5C;\n",
              "      box-shadow: 0px 1px 3px 1px rgba(0, 0, 0, 0.15);\n",
              "      filter: drop-shadow(0px 1px 2px rgba(0, 0, 0, 0.3));\n",
              "      fill: #FFFFFF;\n",
              "    }\n",
              "  </style>\n",
              "\n",
              "    <script>\n",
              "      const buttonEl =\n",
              "        document.querySelector('#df-615aa8e4-b07a-4c6c-945e-13ebd981b83e button.colab-df-convert');\n",
              "      buttonEl.style.display =\n",
              "        google.colab.kernel.accessAllowed ? 'block' : 'none';\n",
              "\n",
              "      async function convertToInteractive(key) {\n",
              "        const element = document.querySelector('#df-615aa8e4-b07a-4c6c-945e-13ebd981b83e');\n",
              "        const dataTable =\n",
              "          await google.colab.kernel.invokeFunction('convertToInteractive',\n",
              "                                                    [key], {});\n",
              "        if (!dataTable) return;\n",
              "\n",
              "        const docLinkHtml = 'Like what you see? Visit the ' +\n",
              "          '<a target=\"_blank\" href=https://colab.research.google.com/notebooks/data_table.ipynb>data table notebook</a>'\n",
              "          + ' to learn more about interactive tables.';\n",
              "        element.innerHTML = '';\n",
              "        dataTable['output_type'] = 'display_data';\n",
              "        await google.colab.output.renderOutput(dataTable, element);\n",
              "        const docLink = document.createElement('div');\n",
              "        docLink.innerHTML = docLinkHtml;\n",
              "        element.appendChild(docLink);\n",
              "      }\n",
              "    </script>\n",
              "  </div>\n",
              "\n",
              "\n",
              "<div id=\"df-c59a5c0f-1c1b-47f9-832c-a8deb6c5f8be\">\n",
              "  <button class=\"colab-df-quickchart\" onclick=\"quickchart('df-c59a5c0f-1c1b-47f9-832c-a8deb6c5f8be')\"\n",
              "            title=\"Suggest charts\"\n",
              "            style=\"display:none;\">\n",
              "\n",
              "<svg xmlns=\"http://www.w3.org/2000/svg\" height=\"24px\"viewBox=\"0 0 24 24\"\n",
              "     width=\"24px\">\n",
              "    <g>\n",
              "        <path d=\"M19 3H5c-1.1 0-2 .9-2 2v14c0 1.1.9 2 2 2h14c1.1 0 2-.9 2-2V5c0-1.1-.9-2-2-2zM9 17H7v-7h2v7zm4 0h-2V7h2v10zm4 0h-2v-4h2v4z\"/>\n",
              "    </g>\n",
              "</svg>\n",
              "  </button>\n",
              "\n",
              "<style>\n",
              "  .colab-df-quickchart {\n",
              "      --bg-color: #E8F0FE;\n",
              "      --fill-color: #1967D2;\n",
              "      --hover-bg-color: #E2EBFA;\n",
              "      --hover-fill-color: #174EA6;\n",
              "      --disabled-fill-color: #AAA;\n",
              "      --disabled-bg-color: #DDD;\n",
              "  }\n",
              "\n",
              "  [theme=dark] .colab-df-quickchart {\n",
              "      --bg-color: #3B4455;\n",
              "      --fill-color: #D2E3FC;\n",
              "      --hover-bg-color: #434B5C;\n",
              "      --hover-fill-color: #FFFFFF;\n",
              "      --disabled-bg-color: #3B4455;\n",
              "      --disabled-fill-color: #666;\n",
              "  }\n",
              "\n",
              "  .colab-df-quickchart {\n",
              "    background-color: var(--bg-color);\n",
              "    border: none;\n",
              "    border-radius: 50%;\n",
              "    cursor: pointer;\n",
              "    display: none;\n",
              "    fill: var(--fill-color);\n",
              "    height: 32px;\n",
              "    padding: 0;\n",
              "    width: 32px;\n",
              "  }\n",
              "\n",
              "  .colab-df-quickchart:hover {\n",
              "    background-color: var(--hover-bg-color);\n",
              "    box-shadow: 0 1px 2px rgba(60, 64, 67, 0.3), 0 1px 3px 1px rgba(60, 64, 67, 0.15);\n",
              "    fill: var(--button-hover-fill-color);\n",
              "  }\n",
              "\n",
              "  .colab-df-quickchart-complete:disabled,\n",
              "  .colab-df-quickchart-complete:disabled:hover {\n",
              "    background-color: var(--disabled-bg-color);\n",
              "    fill: var(--disabled-fill-color);\n",
              "    box-shadow: none;\n",
              "  }\n",
              "\n",
              "  .colab-df-spinner {\n",
              "    border: 2px solid var(--fill-color);\n",
              "    border-color: transparent;\n",
              "    border-bottom-color: var(--fill-color);\n",
              "    animation:\n",
              "      spin 1s steps(1) infinite;\n",
              "  }\n",
              "\n",
              "  @keyframes spin {\n",
              "    0% {\n",
              "      border-color: transparent;\n",
              "      border-bottom-color: var(--fill-color);\n",
              "      border-left-color: var(--fill-color);\n",
              "    }\n",
              "    20% {\n",
              "      border-color: transparent;\n",
              "      border-left-color: var(--fill-color);\n",
              "      border-top-color: var(--fill-color);\n",
              "    }\n",
              "    30% {\n",
              "      border-color: transparent;\n",
              "      border-left-color: var(--fill-color);\n",
              "      border-top-color: var(--fill-color);\n",
              "      border-right-color: var(--fill-color);\n",
              "    }\n",
              "    40% {\n",
              "      border-color: transparent;\n",
              "      border-right-color: var(--fill-color);\n",
              "      border-top-color: var(--fill-color);\n",
              "    }\n",
              "    60% {\n",
              "      border-color: transparent;\n",
              "      border-right-color: var(--fill-color);\n",
              "    }\n",
              "    80% {\n",
              "      border-color: transparent;\n",
              "      border-right-color: var(--fill-color);\n",
              "      border-bottom-color: var(--fill-color);\n",
              "    }\n",
              "    90% {\n",
              "      border-color: transparent;\n",
              "      border-bottom-color: var(--fill-color);\n",
              "    }\n",
              "  }\n",
              "</style>\n",
              "\n",
              "  <script>\n",
              "    async function quickchart(key) {\n",
              "      const quickchartButtonEl =\n",
              "        document.querySelector('#' + key + ' button');\n",
              "      quickchartButtonEl.disabled = true;  // To prevent multiple clicks.\n",
              "      quickchartButtonEl.classList.add('colab-df-spinner');\n",
              "      try {\n",
              "        const charts = await google.colab.kernel.invokeFunction(\n",
              "            'suggestCharts', [key], {});\n",
              "      } catch (error) {\n",
              "        console.error('Error during call to suggestCharts:', error);\n",
              "      }\n",
              "      quickchartButtonEl.classList.remove('colab-df-spinner');\n",
              "      quickchartButtonEl.classList.add('colab-df-quickchart-complete');\n",
              "    }\n",
              "    (() => {\n",
              "      let quickchartButtonEl =\n",
              "        document.querySelector('#df-c59a5c0f-1c1b-47f9-832c-a8deb6c5f8be button');\n",
              "      quickchartButtonEl.style.display =\n",
              "        google.colab.kernel.accessAllowed ? 'block' : 'none';\n",
              "    })();\n",
              "  </script>\n",
              "</div>\n",
              "\n",
              "    </div>\n",
              "  </div>\n"
            ],
            "application/vnd.google.colaboratory.intrinsic+json": {
              "type": "dataframe",
              "variable_name": "df",
              "summary": "{\n  \"name\": \"df\",\n  \"rows\": 73869,\n  \"fields\": [\n    {\n      \"column\": \"number_of_samples\",\n      \"properties\": {\n        \"dtype\": \"number\",\n        \"std\": 21324,\n        \"min\": 1,\n        \"max\": 73869,\n        \"num_unique_values\": 73869,\n        \"samples\": [\n          40962,\n          52040,\n          1166\n        ],\n        \"semantic_type\": \"\",\n        \"description\": \"\"\n      }\n    },\n    {\n      \"column\": \"text\",\n      \"properties\": {\n        \"dtype\": \"string\",\n        \"num_unique_values\": 73857,\n        \"samples\": [\n          \"moldaviya poytaxtida gaz portlashi oqibatida kamida 3 kishi halok bo ldi moldaviya poytaxti kishinevda sodir bo lgan portlash oqibatida kamida 3 kishi halok bo lgan va 5 kishi jarohatlangan holda shifoxonaga yotqizilgan sputnik moldaviya agentligi xabariga ko ra moskva prospektidagi ko p qavatli uylardan birida gaz portlashi oqibatida 14 15 16 va 17 qavatlar jiddiy shikastlangan ushbu voqea shahar garnizonini oyoqqa turg azgan voqea joyiga avvaliga qutqaruvchilar va o t o chiruvchilarning 7 ekipaji yetib kelgandi keyinroq bu hududdagi qutqaruvchi va o t o chiruvchi xodimlar soni 100 nafardan oshib maxsus texnik mashinalar soni 16taga yetdi \",\n          \"qozog istonda sun iy nafas oldirish apparatlarini noqonuniy tarzda o zbekistonga olib o tmoqchi bo lgan shaxslar ushlandi qozog istondan o zbekistonga noqonuniy tarzda olib chiqib ketilayotgan sun iy nafas oldirish apparatlari to xtatib qolindi noqonuniy yuk atameken bojxona postida ushlangan bu haqda turkiston viloyati davlat daromadlari departamentiga tayanib tengrinews xabar berdi o zbekiston fuqarolari besh dona sun iy nafas oldirish apparatlarini qozog istondan olib chiqib ketishga uringan ular mazkur qurilmalarni uchta yuk mashinasining kabinalariga ortib olib o tmoqchi bo lgan sun iy nafas oldirish apparatlarining mamlakatdan noqonuniy olib chiqib ketilishi maqtaraal tuman prokuraturasi atameken bojxona posti xodimlari hamda jetisay chegara naryadi tomonidan o tkazilgan hamkorlikdagi tezkor tadbir davomida aniqlangan mazkur holat bo yicha barcha faktlar keyingi tergov ishlari uchun huquq tartibot organlariga topshirilgan avvalroq shveysariya kompaniyasi bilan 19 5 million dollarga imzolangan ikkita shartnoma doirasida o pkani sun iy nafas oldirish apparatlarining dastlabki 100 tasi toshkentga olib kelingani to g risida xabar berilgandi \",\n          \"tramp eronga qarshi 40 yil avval kiritilgan sanksiyalar amal qilish muddatini uzaytirdi aqsh prezidenti donald tramp eronga qarshi 40 yil avval kiritilgan sanksiyalar amal qilish muddatini navbatdagi marta uzaytirdi bu haqda trampning kongressga maktubida aytilgan tramp o z qarorini eron bilan munosabatlar hali normallashmagani 1981 yil 19 yanvardagi ikki tomonlama kelishuvlar hamon bajarilish bosqichida ekanligi bilan izohlagan gap eron va aqsh o rtasidagi jazoir kelishuvlari haqida bormoqda tramp 1979 yilda aqshning tehrondagi elchixonasi eronlik talabalar tomonidan bosib olingandan keyin prezident jimmi karter tomonidan qabul qilingan farmonning amal qilish muddatini uzaytirdi o shanda karter aqshdan eronga deyarli barcha turdagi tovarlar jumladan oziq ovqat mahsulotlari va dori darmonlar eksportini taqiqlab qo ygan so ngra erondan aqshga tovarlar importi va amerikaliklarning eronga borishi taqiqlangan keyinchalik aqshning qolgan prezidentlari sanksiyalarni faqatgina qatiylashtirib borishgan ushbu farmon aqsh hukumatiga eronga qarshi sanksiyalar kiritish va boshqa choralar qo llash imkonini beradi \"\n        ],\n        \"semantic_type\": \"\",\n        \"description\": \"\"\n      }\n    },\n    {\n      \"column\": \"class_labels\",\n      \"properties\": {\n        \"dtype\": \"category\",\n        \"num_unique_values\": 3,\n        \"samples\": [\n          \"Avto\",\n          \"Ayollar\",\n          \"Dunyo\"\n        ],\n        \"semantic_type\": \"\",\n        \"description\": \"\"\n      }\n    },\n    {\n      \"column\": \"encoded_labels\",\n      \"properties\": {\n        \"dtype\": \"number\",\n        \"std\": 0,\n        \"min\": 0,\n        \"max\": 2,\n        \"num_unique_values\": 3,\n        \"samples\": [\n          0,\n          1,\n          2\n        ],\n        \"semantic_type\": \"\",\n        \"description\": \"\"\n      }\n    }\n  ]\n}"
            }
          },
          "metadata": {},
          "execution_count": 10
        }
      ]
    },
    {
      "cell_type": "code",
      "source": [
        "### Splitting dataset into train, validation and test sets\n",
        "from sklearn.model_selection import train_test_split\n",
        "train, valid = train_test_split(df, test_size=0.4, random_state=35)\n",
        "test, val = train_test_split(valid, test_size=0.5, random_state=35)\n",
        "print(f'Number of training samples: {len(train)}')\n",
        "print(f'Number of validation samples: {len(val)}')\n",
        "print(f'Number of testing samples: {len(test)}')"
      ],
      "metadata": {
        "colab": {
          "base_uri": "https://localhost:8080/"
        },
        "id": "TWtKlV0q6veA",
        "outputId": "b2f5930d-b41c-4ef4-b8e3-a47a9cdf7b37"
      },
      "execution_count": null,
      "outputs": [
        {
          "output_type": "stream",
          "name": "stdout",
          "text": [
            "Number of training samples: 44321\n",
            "Number of validation samples: 14774\n",
            "Number of testing samples: 14774\n"
          ]
        }
      ]
    },
    {
      "cell_type": "markdown",
      "source": [
        "### **Fine-Tuning Bert Model**"
      ],
      "metadata": {
        "id": "p8mw0X7O9XwS"
      }
    },
    {
      "cell_type": "code",
      "source": [
        "!pip install tokenization\n",
        "import tensorflow_hub as hub\n",
        "import tokenization\n",
        "module_url = 'https://tfhub.dev/tensorflow/bert_en_uncased_L-12_H-768_A-12/2'\n",
        "bert_layer = hub.KerasLayer(module_url, trainable=True)"
      ],
      "metadata": {
        "colab": {
          "base_uri": "https://localhost:8080/"
        },
        "id": "YHJFsi32C_bb",
        "outputId": "82fa7b9f-53c6-49ba-b9da-04dd49f6674a"
      },
      "execution_count": null,
      "outputs": [
        {
          "output_type": "stream",
          "name": "stdout",
          "text": [
            "Requirement already satisfied: tokenization in /usr/local/lib/python3.10/dist-packages (1.0.7)\n",
            "Requirement already satisfied: regex in /usr/local/lib/python3.10/dist-packages (from tokenization) (2024.5.15)\n"
          ]
        }
      ]
    },
    {
      "cell_type": "code",
      "source": [
        "### Building model\n",
        "\n",
        "def build_model(bert_layer, max_len=512):\n",
        "    input_word_ids = tf.keras.Input(shape=(max_len,), dtype=tf.int32, name=\"input_word_ids\")\n",
        "    input_mask = tf.keras.Input(shape=(max_len,), dtype=tf.int32, name=\"input_mask\")\n",
        "    segment_ids = tf.keras.Input(shape=(max_len,), dtype=tf.int32, name=\"segment_ids\")\n",
        "\n",
        "    pooled_output, sequence_output = bert_layer([input_word_ids, input_mask, segment_ids])\n",
        "    clf_output = sequence_output[:, 0, :]\n",
        "    net = tf.keras.layers.Dense(64, activation='relu')(clf_output)\n",
        "    net = tf.keras.layers.Dropout(0.2)(net)\n",
        "    net = tf.keras.layers.Dense(32, activation='relu')(net)\n",
        "    net = tf.keras.layers.Dropout(0.2)(net)\n",
        "    out = tf.keras.layers.Dense(3, activation='softmax')(net)\n",
        "\n",
        "    model = tf.keras.models.Model(inputs=[input_word_ids, input_mask, segment_ids], outputs=out)\n",
        "    model.compile(tf.keras.optimizers.Adam(lr=1e-5), loss='sparse_categorical_crossentropy', metrics=['accuracy'])\n",
        "\n",
        "    return model"
      ],
      "metadata": {
        "id": "MYkK6YunC_Y5"
      },
      "execution_count": null,
      "outputs": []
    },
    {
      "cell_type": "code",
      "source": [
        "from transformers import BertTokenizer\n",
        "\n",
        "# Load the pre-trained BERT tokenizer\n",
        "tokenizer = BertTokenizer.from_pretrained('bert-base-uncased')\n",
        "\n",
        "def bert_encode(texts, tokenizer, max_len=512):\n",
        "    all_tokens = []\n",
        "    all_masks = []\n",
        "    all_segments = []\n",
        "\n",
        "    for text in texts:\n",
        "        tokens = tokenizer.tokenize(text)\n",
        "        tokens = tokens[:max_len-2]\n",
        "        input_sequence = [\"[CLS]\"] + tokens + [\"[SEP]\"]\n",
        "        pad_len = max_len - len(input_sequence)\n",
        "\n",
        "        tokens = tokenizer.convert_tokens_to_ids(input_sequence) + [0] * pad_len\n",
        "        pad_masks = [1] * len(input_sequence) + [0] * pad_len\n",
        "        segment_ids = [0] * max_len\n",
        "\n",
        "        all_tokens.append(tokens)\n",
        "        all_masks.append(pad_masks)\n",
        "        all_segments.append(segment_ids)\n",
        "\n",
        "    return np.array(all_tokens), np.array(all_masks), np.array(all_segments)"
      ],
      "metadata": {
        "id": "fLsEn6X2C_U8"
      },
      "execution_count": null,
      "outputs": []
    },
    {
      "cell_type": "code",
      "source": [
        "### Encoding the samples for training\n",
        "max_len = 150\n",
        "train_input = bert_encode(train['text'], tokenizer, max_len=max_len)\n",
        "val_input = bert_encode(val['text'], tokenizer, max_len=max_len)\n",
        "test_input = bert_encode(test['text'], tokenizer, max_len=max_len)"
      ],
      "metadata": {
        "id": "zDgqjya7C_PJ"
      },
      "execution_count": null,
      "outputs": []
    },
    {
      "cell_type": "code",
      "source": [
        "model = build_model(bert_layer, max_len=max_len)\n",
        "model.summary()"
      ],
      "metadata": {
        "colab": {
          "base_uri": "https://localhost:8080/"
        },
        "id": "WBksq1hnFJpH",
        "outputId": "fe1a766a-6dcf-4493-cd15-02c3943ad63b"
      },
      "execution_count": null,
      "outputs": [
        {
          "output_type": "stream",
          "name": "stderr",
          "text": [
            "WARNING:absl:`lr` is deprecated in Keras optimizer, please use `learning_rate` or use the legacy optimizer, e.g.,tf.keras.optimizers.legacy.Adam.\n"
          ]
        },
        {
          "output_type": "stream",
          "name": "stdout",
          "text": [
            "Model: \"model\"\n",
            "__________________________________________________________________________________________________\n",
            " Layer (type)                Output Shape                 Param #   Connected to                  \n",
            "==================================================================================================\n",
            " input_word_ids (InputLayer  [(None, 150)]                0         []                            \n",
            " )                                                                                                \n",
            "                                                                                                  \n",
            " input_mask (InputLayer)     [(None, 150)]                0         []                            \n",
            "                                                                                                  \n",
            " segment_ids (InputLayer)    [(None, 150)]                0         []                            \n",
            "                                                                                                  \n",
            " keras_layer (KerasLayer)    [(None, 768),                1094822   ['input_word_ids[0][0]',      \n",
            "                              (None, 150, 768)]           41         'input_mask[0][0]',          \n",
            "                                                                     'segment_ids[0][0]']         \n",
            "                                                                                                  \n",
            " tf.__operators__.getitem (  (None, 768)                  0         ['keras_layer[0][1]']         \n",
            " SlicingOpLambda)                                                                                 \n",
            "                                                                                                  \n",
            " dense (Dense)               (None, 64)                   49216     ['tf.__operators__.getitem[0][\n",
            "                                                                    0]']                          \n",
            "                                                                                                  \n",
            " dropout (Dropout)           (None, 64)                   0         ['dense[0][0]']               \n",
            "                                                                                                  \n",
            " dense_1 (Dense)             (None, 32)                   2080      ['dropout[0][0]']             \n",
            "                                                                                                  \n",
            " dropout_1 (Dropout)         (None, 32)                   0         ['dense_1[0][0]']             \n",
            "                                                                                                  \n",
            " dense_2 (Dense)             (None, 3)                    99        ['dropout_1[0][0]']           \n",
            "                                                                                                  \n",
            "==================================================================================================\n",
            "Total params: 109533636 (417.84 MB)\n",
            "Trainable params: 109533635 (417.84 MB)\n",
            "Non-trainable params: 1 (1.00 Byte)\n",
            "__________________________________________________________________________________________________\n"
          ]
        }
      ]
    },
    {
      "cell_type": "markdown",
      "source": [
        "### **Train the model**"
      ],
      "metadata": {
        "id": "95MCfbKb9_i4"
      }
    },
    {
      "cell_type": "code",
      "source": [
        "checkpoint = tf.keras.callbacks.ModelCheckpoint('model.h5', monitor='val_accuracy', save_best_only=True, verbose=1)\n",
        "earlystopping = tf.keras.callbacks.EarlyStopping(monitor='val_accuracy', patience=5, verbose=1)\n",
        "\n",
        "train_history = model.fit(train_input, train['encoded_labels'], validation_data=(val_input, val[\"encoded_labels\"]), epochs=3,\n",
        "                          callbacks=[checkpoint, earlystopping], batch_size=32, verbose=1)"
      ],
      "metadata": {
        "colab": {
          "base_uri": "https://localhost:8080/"
        },
        "id": "ap3gK9FZFJjc",
        "outputId": "fb59852c-da80-47b3-b876-52bb278adb11"
      },
      "execution_count": null,
      "outputs": [
        {
          "metadata": {
            "tags": null
          },
          "name": "stdout",
          "output_type": "stream",
          "text": [
            "Epoch 1/3\n",
            "1386/1386 [==============================] - ETA: 0s - loss: 0.4729 - accuracy: 0.8793\n",
            "Epoch 1: val_accuracy improved from -inf to 0.88608, saving model to model.h5\n"
          ]
        },
        {
          "metadata": {
            "tags": null
          },
          "name": "stderr",
          "output_type": "stream",
          "text": [
            "/usr/local/lib/python3.10/dist-packages/keras/src/engine/training.py:3103: UserWarning: You are saving your model as an HDF5 file via `model.save()`. This file format is considered legacy. We recommend using instead the native Keras format, e.g. `model.save('my_model.keras')`.\n",
            "  saving_api.save_model(\n"
          ]
        },
        {
          "output_type": "stream",
          "name": "stdout",
          "text": [
            "1386/1386 [==============================] - 1677s 1s/step - loss: 0.4729 - accuracy: 0.8793 - val_loss: 0.4311 - val_accuracy: 0.8861\n",
            "Epoch 2/3\n",
            "1386/1386 [==============================] - ETA: 0s - loss: 0.4467 - accuracy: 0.8821\n",
            "Epoch 2: val_accuracy did not improve from 0.88608\n",
            "1386/1386 [==============================] - 1605s 1s/step - loss: 0.4467 - accuracy: 0.8821 - val_loss: 0.4416 - val_accuracy: 0.8861\n",
            "Epoch 3/3\n",
            "1386/1386 [==============================] - ETA: 0s - loss: 0.4409 - accuracy: 0.8821\n",
            "Epoch 3: val_accuracy did not improve from 0.88608\n",
            "1386/1386 [==============================] - 1596s 1s/step - loss: 0.4409 - accuracy: 0.8821 - val_loss: 0.4265 - val_accuracy: 0.8861\n"
          ]
        }
      ]
    },
    {
      "cell_type": "markdown",
      "source": [
        "### **Model Evaluation**"
      ],
      "metadata": {
        "id": "Wxg1Q0xT-ITx"
      }
    },
    {
      "cell_type": "code",
      "source": [
        "test_fin_input = test_input = bert_encode(test['text'], tokenizer, max_len=max_len)\n",
        "model.load_weights('model.h5')\n",
        "test_pred = model.predict(test_input)"
      ],
      "metadata": {
        "colab": {
          "base_uri": "https://localhost:8080/"
        },
        "id": "P41hZSlpFJc-",
        "outputId": "169859bd-cc4a-4071-abc3-3899357cd989"
      },
      "execution_count": null,
      "outputs": [
        {
          "output_type": "stream",
          "name": "stdout",
          "text": [
            "462/462 [==============================] - 154s 332ms/step\n"
          ]
        }
      ]
    },
    {
      "cell_type": "code",
      "source": [
        "%%time\n",
        "\n",
        "_, test_acc = model.evaluate(test_input, test['encoded_labels'])\n",
        "\n",
        "print(\"test acc: \", test_acc)"
      ],
      "metadata": {
        "colab": {
          "base_uri": "https://localhost:8080/"
        },
        "id": "EyOGGzH-FJVc",
        "outputId": "911ae145-b8bd-42cf-884e-d4d2a9a040fa"
      },
      "execution_count": null,
      "outputs": [
        {
          "output_type": "stream",
          "name": "stdout",
          "text": [
            "462/462 [==============================] - 155s 334ms/step - loss: 0.4501 - accuracy: 0.8786\n",
            "test acc:  0.8786381483078003\n",
            "CPU times: user 14.3 s, sys: 7.39 s, total: 21.7 s\n",
            "Wall time: 3min 22s\n"
          ]
        }
      ]
    },
    {
      "cell_type": "code",
      "source": [
        "%%time\n",
        "# model = create_model(max_seq_len = data.max_seq_len, lr = 1e-5)\n",
        "model.load_weights(\"model.h5\")\n",
        "\n",
        "_, train_acc = model.evaluate(train_input, train['encoded_labels'])\n",
        "_, val_acc = model.evaluate(val_input, val['encoded_labels'])\n",
        "_, test_acc = model.evaluate(test_input, test['encoded_labels'])\n",
        "\n",
        "print(\"train acc: \", train_acc)\n",
        "print(\"validation acc: \", val_acc)\n",
        "print(\"test acc: \", test_acc)"
      ],
      "metadata": {
        "colab": {
          "base_uri": "https://localhost:8080/"
        },
        "id": "DITTddgMC_Ew",
        "outputId": "29f9c404-a48e-4792-a9b6-d21fb4a63f97"
      },
      "execution_count": null,
      "outputs": [
        {
          "output_type": "stream",
          "name": "stdout",
          "text": [
            "1386/1386 [==============================] - 463s 334ms/step - loss: 0.4407 - accuracy: 0.8821\n",
            "462/462 [==============================] - 154s 334ms/step - loss: 0.4311 - accuracy: 0.8861\n",
            "462/462 [==============================] - 155s 335ms/step - loss: 0.4501 - accuracy: 0.8786\n",
            "train acc:  0.882110059261322\n",
            "validation acc:  0.8860836625099182\n",
            "test acc:  0.8786381483078003\n",
            "CPU times: user 1min 14s, sys: 33.8 s, total: 1min 48s\n",
            "Wall time: 14min 28s\n"
          ]
        }
      ]
    },
    {
      "cell_type": "markdown",
      "source": [
        "# **Thank you for your attention**"
      ],
      "metadata": {
        "id": "bqPj9uj-8xqB"
      }
    },
    {
      "cell_type": "code",
      "source": [],
      "metadata": {
        "id": "q5EppZji82_B"
      },
      "execution_count": null,
      "outputs": []
    }
  ]
}